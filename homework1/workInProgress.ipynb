{
 "cells": [
  {
   "cell_type": "markdown",
   "metadata": {},
   "source": [
    "Assignment: Multi-Layer Perceptron"
   ]
  },
  {
   "cell_type": "code",
   "execution_count": 1,
   "metadata": {},
   "outputs": [],
   "source": [
    "import numpy as np\n",
    "from sklearn.datasets import load_digits\n",
    "from sklearn.preprocessing import OneHotEncoder\n",
    "import matplotlib.pyplot as plt\n",
    "import random"
   ]
  },
  {
   "cell_type": "code",
   "execution_count": 2,
   "metadata": {},
   "outputs": [],
   "source": [
    "#load digits from sklearn.datasets\n",
    "digits = load_digits()\n",
    "#get input (data of images) and target values \n",
    "input, target = digits.data, digits.target\n",
    "#create data tuple\n",
    "data = list(zip(input, target))\n",
    "\n",
    "\n",
    "#data arrays have not be reshaped because they are already in shape (64,) unlike digits.images (8x8)"
   ]
  },
  {
   "cell_type": "code",
   "execution_count": 3,
   "metadata": {},
   "outputs": [],
   "source": [
    "#convert data to float32\n",
    "prepared_data = [(data.astype(np.float32), target) for data, target in data]\n",
    "#scale values to range [0 to 1]\n",
    "prepared_data = [(data / 16.0, target) for data, target, in prepared_data]"
   ]
  },
  {
   "cell_type": "code",
   "execution_count": 4,
   "metadata": {},
   "outputs": [
    {
     "data": {
      "text/plain": [
       "<Figure size 640x480 with 0 Axes>"
      ]
     },
     "metadata": {},
     "output_type": "display_data"
    },
    {
     "data": {
      "image/png": "[encoded data removed]",
      "text/plain": [
       "<Figure size 480x480 with 1 Axes>"
      ]
     },
     "metadata": {},
     "output_type": "display_data"
    },
    {
     "data": {
      "image/png": "[encoded data removed]",
      "text/plain": [
       "<Figure size 640x480 with 1 Axes>"
      ]
     },
     "metadata": {},
     "output_type": "display_data"
    }
   ],
   "source": [
    "plt.gray()\n",
    "plt.matshow(digits.images[12])\n",
    "\n",
    "def plot_digit(data):\n",
    "    input, target = data\n",
    "    image = input.reshape(8, 8)\n",
    "\n",
    "    plt.figure()\n",
    "    plt.imshow(image, cmap=plt.cm.gray)\n",
    "    plt.title(f\"Digit {target}\")\n",
    "    plt.show()\n",
    "\n",
    "plot_digit(prepared_data[12])"
   ]
  },
  {
   "cell_type": "code",
   "execution_count": 5,
   "metadata": {},
   "outputs": [
    {
     "name": "stdout",
     "output_type": "stream",
     "text": [
      "(64,)\n",
      "<class 'numpy.float32'>\n",
      "0.9375\n"
     ]
    }
   ],
   "source": [
    "print(np.shape(prepared_data[0][0]))\n",
    "print(type(prepared_data[0][0][0]))\n",
    "print(prepared_data[0][0][11])"
   ]
  },
  {
   "cell_type": "code",
   "execution_count": 6,
   "metadata": {},
   "outputs": [
    {
     "name": "stdout",
     "output_type": "stream",
     "text": [
      "<class 'list'>\n",
      "[(array([1., 0., 0., 0., 0., 0., 0., 0., 0., 0.]), 0), (array([0., 1., 0., 0., 0., 0., 0., 0., 0., 0.]), 1), (array([0., 0., 1., 0., 0., 0., 0., 0., 0., 0.]), 2), (array([0., 0., 0., 1., 0., 0., 0., 0., 0., 0.]), 3), (array([0., 0., 0., 0., 1., 0., 0., 0., 0., 0.]), 4), (array([0., 0., 0., 0., 0., 1., 0., 0., 0., 0.]), 5), (array([0., 0., 0., 0., 0., 0., 1., 0., 0., 0.]), 6), (array([0., 0., 0., 0., 0., 0., 0., 1., 0., 0.]), 7), (array([0., 0., 0., 0., 0., 0., 0., 0., 1., 0.]), 8), (array([0., 0., 0., 0., 0., 0., 0., 0., 0., 1.]), 9)]\n"
     ]
    }
   ],
   "source": [
    "#create one-hot encoded vectors\n",
    "encoder = OneHotEncoder(sparse_output=False)\n",
    "target_digits = np.arange(0, 10)\n",
    "one_hot_vectors = encoder.fit_transform(target_digits.reshape(-1, 1))\n",
    "#combine one-hot-vectors with target digits\n",
    "target_one_hot = [(vector, digit) for vector, digit in zip(one_hot_vectors, target_digits)]\n",
    "\n",
    "print(type(target_one_hot))\n",
    "print(target_one_hot)"
   ]
  },
  {
   "cell_type": "code",
   "execution_count": 7,
   "metadata": {},
   "outputs": [],
   "source": [
    "def shuffle_generator(data_target_pairs):\n",
    "\n",
    "    while True:\n",
    "        #what about unfortunate shuffles causing same outputs\n",
    "        random.shuffle(data_target_pairs)\n",
    "        for data, target in data_target_pairs:\n",
    "            yield data, target"
   ]
  },
  {
   "cell_type": "code",
   "execution_count": null,
   "metadata": {},
   "outputs": [],
   "source": [
    "gen = shuffle_generator()\n",
    "print(next(gen))"
   ]
  },
  {
   "cell_type": "code",
   "execution_count": 8,
   "metadata": {},
   "outputs": [
    {
     "name": "stdout",
     "output_type": "stream",
     "text": [
      "[0.     0.     0.6875 1.     1.     0.625  0.     0.     0.0625 0.875\n",
      " 1.     0.5625 0.6875 1.     0.0625 0.     0.0625 0.875  0.1875 0.\n",
      " 0.75   0.875  0.     0.     0.     0.     0.     0.375  1.     0.4375\n",
      " 0.     0.     0.     0.     0.     0.     0.5    1.     0.3125 0.\n",
      " 0.     0.     0.     0.     0.     0.75   0.625  0.     0.     0.\n",
      " 0.125  0.25   0.3125 0.875  0.8125 0.     0.     0.     0.6875 1.\n",
      " 1.     1.     0.25   0.    ] : 3\n",
      "[0.     0.     0.0625 0.6875 0.875  0.     0.     0.     0.     0.\n",
      " 0.5625 1.     0.75   0.     0.     0.     0.     0.0625 1.     0.4375\n",
      " 0.     0.     0.     0.     0.     0.4375 1.     0.3125 0.3125 0.25\n",
      " 0.     0.     0.     0.4375 1.     1.     1.     1.     0.3125 0.\n",
      " 0.     0.     1.     0.8125 0.25   0.8125 0.4375 0.     0.     0.\n",
      " 0.5625 1.     0.875  1.     0.25   0.     0.     0.     0.0625 0.6875\n",
      " 0.875  0.5625 0.     0.    ] : 6\n",
      "[0.     0.     0.625  0.5    0.5    0.25   0.     0.     0.     0.5\n",
      " 0.9375 0.75   0.875  0.875  0.     0.     0.     0.5625 0.6875 0.\n",
      " 0.625  1.     0.25   0.     0.     0.0625 0.5625 0.75   0.625  0.75\n",
      " 0.5    0.     0.     0.     0.     0.     0.     0.5    0.5    0.\n",
      " 0.     0.     0.     0.     0.     0.625  0.4375 0.     0.     0.\n",
      " 0.6875 0.375  0.25   0.9375 0.25   0.     0.     0.     0.8125 1.\n",
      " 1.     0.4375 0.     0.    ] : 9\n",
      "[0.     0.0625 0.5625 0.9375 0.8125 0.25   0.     0.     0.     0.3125\n",
      " 0.75   0.25   0.625  0.375  0.     0.     0.     0.     0.     0.1875\n",
      " 0.9375 0.125  0.     0.     0.     0.     0.     0.9375 0.8125 0.0625\n",
      " 0.     0.     0.     0.     0.     0.125  0.5625 0.875  0.125  0.\n",
      " 0.     0.     0.     0.     0.     0.6875 0.5    0.     0.     0.\n",
      " 0.625  0.375  0.25   0.6875 0.4375 0.     0.     0.     0.5    0.9375\n",
      " 1.     0.5625 0.0625 0.    ] : 3\n",
      "[0.     0.     0.1875 0.375  0.875  0.3125 0.     0.     0.     0.\n",
      " 0.4375 0.9375 0.9375 0.8125 0.     0.     0.     0.     0.1875 0.875\n",
      " 0.8125 0.75   0.     0.     0.     0.     0.     1.     0.8125 0.0625\n",
      " 0.     0.     0.     0.     0.125  1.     0.5    0.     0.     0.\n",
      " 0.     0.     0.625  0.5625 0.875  0.     0.     0.     0.     0.\n",
      " 0.75   0.25   0.9375 0.125  0.     0.     0.     0.     0.25   0.9375\n",
      " 0.875  0.     0.     0.    ] : 8\n",
      "[0.     0.0625 0.875  1.     0.75   0.     0.     0.     0.     0.3125\n",
      " 1.     0.5625 1.     0.375  0.     0.     0.     0.1875 0.6875 0.\n",
      " 0.875  0.5625 0.     0.     0.     0.     0.     0.     0.625  0.625\n",
      " 0.     0.     0.     0.     0.     0.     0.875  0.625  0.     0.\n",
      " 0.     0.     0.     0.625  1.     0.3125 0.     0.     0.     0.125\n",
      " 0.9375 1.     0.875  0.5    0.75   0.125  0.     0.     0.6875 1.\n",
      " 1.     1.     0.9375 0.3125] : 2\n",
      "[0.     0.     0.25   0.75   1.     0.625  0.     0.     0.     0.\n",
      " 0.9375 0.75   0.75   0.6875 0.     0.     0.     0.     0.0625 0.\n",
      " 0.5625 0.4375 0.     0.     0.     0.     0.25   0.4375 0.9375 0.8125\n",
      " 0.4375 0.     0.     0.375  1.     1.     0.9375 0.625  0.1875 0.\n",
      " 0.     0.0625 0.25   0.75   0.4375 0.     0.     0.     0.     0.\n",
      " 0.125  1.     0.125  0.     0.     0.     0.     0.     0.375  0.75\n",
      " 0.     0.     0.     0.    ] : 7\n",
      "[0.     0.     0.     0.5625 0.8125 0.1875 0.     0.     0.     0.\n",
      " 0.5    0.9375 0.75   0.9375 0.125  0.     0.     0.     0.75   0.5\n",
      " 0.     0.9375 0.25   0.     0.     0.1875 0.8125 0.     0.     0.625\n",
      " 0.4375 0.     0.     0.5    0.5625 0.     0.     0.8125 0.4375 0.\n",
      " 0.     0.125  1.     0.25   0.4375 1.     0.3125 0.     0.     0.\n",
      " 0.875  0.875  1.     0.9375 0.0625 0.     0.     0.     0.0625 0.75\n",
      " 0.875  0.25   0.     0.    ] : 0\n",
      "[0.     0.     0.5    0.9375 0.75   0.25   0.     0.     0.     0.3125\n",
      " 0.875  0.25   0.6875 0.4375 0.     0.     0.     0.     0.     0.0625\n",
      " 0.875  0.1875 0.     0.     0.     0.     0.125  0.9375 0.875  0.0625\n",
      " 0.     0.     0.     0.     0.     0.5    0.8125 0.6875 0.     0.\n",
      " 0.     0.     0.     0.     0.     0.8125 0.3125 0.     0.     0.\n",
      " 0.75   0.125  0.1875 0.75   0.4375 0.     0.     0.     0.8125 1.\n",
      " 0.9375 0.5    0.     0.    ] : 3\n",
      "[0.     0.     0.625  0.9375 0.375  0.     0.     0.     0.     0.125\n",
      " 1.     0.875  1.     0.4375 0.     0.     0.     0.25   1.     0.5\n",
      " 0.3125 1.     0.0625 0.     0.     0.3125 0.75   0.     0.     0.75\n",
      " 0.5    0.     0.     0.5    0.5625 0.     0.     0.75   0.5    0.\n",
      " 0.     0.3125 0.75   0.     0.0625 0.9375 0.1875 0.     0.     0.25\n",
      " 0.8125 0.25   0.75   0.8125 0.     0.     0.     0.     0.5625 1.\n",
      " 0.8125 0.25   0.     0.    ] : 0\n"
     ]
    }
   ],
   "source": [
    "data_gen = shuffle_generator(prepared_data)\n",
    "for _ in range(10):\n",
    "    data, target = next(data_gen)\n",
    "    print(data, \":\", target)"
   ]
  },
  {
   "cell_type": "code",
   "execution_count": 16,
   "metadata": {},
   "outputs": [],
   "source": [
    "#adjust generator\n",
    "def shuffle_generator(data_target_pairs, minibatch_size):\n",
    "    \n",
    "    while True:\n",
    "        #shuffle data\n",
    "        random.shuffle(data_target_pairs)\n",
    "        #for length of input data, stepsize of batchsize\n",
    "        for i in range(0, len(data_target_pairs), minibatch_size):\n",
    "            minibatch_data = []\n",
    "            minibatch_targets = []\n",
    "\n",
    "            #create minibatches\n",
    "            for j in range(minibatch_size):\n",
    "                if i + j < len(data_target_pairs):\n",
    "                    data, target = data_target_pairs[i + j]\n",
    "                    minibatch_data.append(data)\n",
    "\n",
    "                    #use one_hot_target vectors\n",
    "                    one_hot_target = np.zeros(10, dtype=np.float32)\n",
    "                    one_hot_target[target] = 1.0\n",
    "                    minibatch_targets.append(one_hot_target)\n",
    "            \n",
    "            minibatch_data = np.array(minibatch_data, dtype=np.float32)\n",
    "            minibatch_targets = np.array(minibatch_targets, dtype=np.float32)\n",
    "\n",
    "            yield minibatch_data, minibatch_targets\n",
    "\n",
    "        "
   ]
  },
  {
   "cell_type": "code",
   "execution_count": 17,
   "metadata": {},
   "outputs": [
    {
     "name": "stdout",
     "output_type": "stream",
     "text": [
      "(4, 64)\n",
      "<class 'numpy.float32'>\n",
      "(4, 10)\n",
      "<class 'numpy.float32'>\n"
     ]
    }
   ],
   "source": [
    "#testing adjusted generator\n",
    "generator = shuffle_generator(prepared_data, 4)\n",
    "test_data, test_target = next(generator)\n",
    "\n",
    "print(test_data.shape)\n",
    "print(type(test_data[0][1]))\n",
    "print(test_target.shape)\n",
    "print(type(test_target[0][1]))"
   ]
  },
  {
   "cell_type": "code",
   "execution_count": null,
   "metadata": {},
   "outputs": [],
   "source": [
    "#Sigmoid Activation Function\n",
    "class Sigmoid_AF():\n",
    "    def call(self, inputs):\n",
    "        return 1 / (1+np.exp(-inputs))"
   ]
  },
  {
   "cell_type": "code",
   "execution_count": 18,
   "metadata": {},
   "outputs": [],
   "source": [
    "#Softmax Activation Function\n",
    "class Softmax_AF():\n",
    "    def call(self, inputs):\n",
    "        e_x = np.exp(inputs)\n",
    "        return e_x / np.sum(e_x, axis=1, keepdims=True)"
   ]
  },
  {
   "cell_type": "code",
   "execution_count": 21,
   "metadata": {},
   "outputs": [
    {
     "name": "stdout",
     "output_type": "stream",
     "text": [
      "0.9999999999999999\n"
     ]
    }
   ],
   "source": [
    "#testing softmax\n",
    "inputs = np.random.randn(4, 10)\n",
    "output= Softmax_AF().call(inputs)\n",
    "\n",
    "print(output)\n",
    "print(\"------\")\n",
    "print(sum(output[0]))"
   ]
  },
  {
   "cell_type": "code",
   "execution_count": null,
   "metadata": {},
   "outputs": [],
   "source": [
    "#MLP_Layer\n",
    "class MLP_layer():\n",
    "    def __init__(self, activation, n_units, input_size):\n",
    "        self.activation_function = activation\n",
    "        self.n_units = n_units\n",
    "        self.input_size = input_size\n",
    "        weights = np.random.normal(0., 0.2, (n_units * input_size))\n",
    "        self.weights = weights.reshape(n_units, input_size)\n",
    "        self.bias = np.zeros((n_units, ))\n",
    "    \n",
    "    def forward(self, inputs):\n",
    "        pre_activations = self.weights @ inputs + np.transpose(self.bias)\n",
    "        activations = self.activation_function(pre_activations)\n",
    "        return activations\n",
    "    "
   ]
  },
  {
   "cell_type": "code",
   "execution_count": null,
   "metadata": {},
   "outputs": [],
   "source": [
    "class MLP():\n",
    "    def __init__(self, layers):\n",
    "        self.layer_list = [None]\n",
    "\n",
    "        self.num_layers \n",
    "\n",
    "    def backprop_step(self, x, target, epsilon):\n",
    "        \n",
    "        a = [x]\n",
    "        for layer in self.layer_list[1:]:\n",
    "            x = layer(x)\n",
    "            a.append(x)\n",
    "        y = x #prediction\n",
    "\n",
    "        sigmoid_prime = a[-1] * (1 - a[-1])\n",
    "        delta = 2*(y - target) * sigmoid_prime\n",
    "\n",
    "        output_layer = self.layer_list[-1]\n",
    "        output_layer.adapt(delta, a[-2], epsilon)\n",
    "\n",
    "        for l in reversed(range(1, self.num_layers -1)):\n",
    "\n",
    "            sigmoid_prime = a[l] * (1 - a[l])\n",
    "\n",
    "            delta = (delta @ self.layer_list[l+1].weights.T) * sigmoid_prime\n",
    "\n",
    "            self.layer_list[l].adapt(delta, a[l-1], epsilon)"
   ]
  },
  {
   "cell_type": "code",
   "execution_count": null,
   "metadata": {},
   "outputs": [],
   "source": []
  },
  {
   "cell_type": "code",
   "execution_count": null,
   "metadata": {},
   "outputs": [],
   "source": [
    "#einsum \n",
    "import numpy as np\n",
    "batch_size = 32\n",
    "input_size = 64\n",
    "output_size = 10\n",
    "\n",
    "w = np.random.random((input_size, output_size))\n",
    "a = np.random.random((batch_size, input_size))\n",
    "b = np.random.random((output_size))\n",
    "\n",
    "#y = W x a + b\n",
    "\n",
    "y = np.einsum('io, bi -> bo', w, a) + b"
   ]
  }
 ],
 "metadata": {
  "kernelspec": {
   "display_name": "iannwtf",
   "language": "python",
   "name": "python3"
  },
  "language_info": {
   "codemirror_mode": {
    "name": "ipython",
    "version": 3
   },
   "file_extension": ".py",
   "mimetype": "text/x-python",
   "name": "python",
   "nbconvert_exporter": "python",
   "pygments_lexer": "ipython3",
   "version": "3.10.13"
  }
 },
 "nbformat": 4,
 "nbformat_minor": 2
}
